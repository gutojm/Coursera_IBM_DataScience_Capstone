{
 "cells": [
  {
   "cell_type": "markdown",
   "id": "13c66064",
   "metadata": {},
   "source": [
    "# Capstone Project - The Battle of the Neighborhoods"
   ]
  },
  {
   "cell_type": "markdown",
   "id": "c3b74827",
   "metadata": {},
   "source": [
    "## Table of contents\n",
    "* [Introduction](#introduction)\n",
    "* [Data](#data)"
   ]
  },
  {
   "cell_type": "markdown",
   "id": "fd67957d",
   "metadata": {},
   "source": [
    "## Introduction"
   ]
  },
  {
   "cell_type": "markdown",
   "id": "8ac92368",
   "metadata": {},
   "source": [
    "The objective is compare neighborhoods from São Paulo/Brasil with Canberra/Australia to provide information to  people who wants to move from the first one to the second one and vice-versa.\n",
    "\n",
    "This way neighborhoods of both cities will be grouped by it's similarities and main venues characteristics."
   ]
  },
  {
   "cell_type": "markdown",
   "id": "2831b3ae",
   "metadata": {},
   "source": [
    "## Data"
   ]
  },
  {
   "cell_type": "markdown",
   "id": "02a14b01",
   "metadata": {},
   "source": [
    "Source of data:\n",
    "- Boroughs and Neighborhoods\n",
    " - São Paulo was obtained from https://www.prefeitura.sp.gov.br/cidade/secretarias/subprefeituras/subprefeituras/dados_demograficos/index.php\n",
    " - Austrália was obtained from https://en.wikipedia.org/wiki/List_of_Canberra_suburbs\n",
    "- Geo Location of the Neighborhoods was obtained from Nominatim from geopy\n",
    "- Trending Venue data from foursquare api\n",
    "\n",
    "After map the main venues I will clusterize them using KMeans putting the both cities together in a way Neighborhoods from them can ocuppy the same clusters"
   ]
  },
  {
   "cell_type": "code",
   "execution_count": 181,
   "id": "fcb00296",
   "metadata": {},
   "outputs": [],
   "source": [
    "import requests\n",
    "from bs4 import BeautifulSoup\n",
    "import pandas as pd\n",
    "import pgeocode\n",
    "from geopy.geocoders import Nominatim\n",
    "import matplotlib.cm as cm\n",
    "import matplotlib.colors as colors\n",
    "from sklearn.cluster import KMeans\n",
    "import folium\n",
    "\n",
    "geolocator = Nominatim(user_agent=\"battlen\")"
   ]
  },
  {
   "cell_type": "markdown",
   "id": "54ee8e78",
   "metadata": {},
   "source": [
    "Import São Paulo data e fill geolocation"
   ]
  },
  {
   "cell_type": "code",
   "execution_count": 178,
   "id": "1eb07038",
   "metadata": {},
   "outputs": [
    {
     "name": "stdout",
     "output_type": "stream",
     "text": [
      "................................................................................................"
     ]
    },
    {
     "data": {
      "text/html": [
       "<div>\n",
       "<style scoped>\n",
       "    .dataframe tbody tr th:only-of-type {\n",
       "        vertical-align: middle;\n",
       "    }\n",
       "\n",
       "    .dataframe tbody tr th {\n",
       "        vertical-align: top;\n",
       "    }\n",
       "\n",
       "    .dataframe thead th {\n",
       "        text-align: right;\n",
       "    }\n",
       "</style>\n",
       "<table border=\"1\" class=\"dataframe\">\n",
       "  <thead>\n",
       "    <tr style=\"text-align: right;\">\n",
       "      <th></th>\n",
       "      <th>Borough</th>\n",
       "      <th>Neighborhood</th>\n",
       "      <th>Latitude</th>\n",
       "      <th>Longitude</th>\n",
       "    </tr>\n",
       "  </thead>\n",
       "  <tbody>\n",
       "    <tr>\n",
       "      <th>0</th>\n",
       "      <td>Aricanduva</td>\n",
       "      <td>Aricanduva</td>\n",
       "      <td>-23.578024</td>\n",
       "      <td>-46.511454</td>\n",
       "    </tr>\n",
       "    <tr>\n",
       "      <th>1</th>\n",
       "      <td>Aricanduva</td>\n",
       "      <td>Carrão</td>\n",
       "      <td>-23.551530</td>\n",
       "      <td>-46.537791</td>\n",
       "    </tr>\n",
       "    <tr>\n",
       "      <th>2</th>\n",
       "      <td>Aricanduva</td>\n",
       "      <td>Vila Formosa</td>\n",
       "      <td>-23.566876</td>\n",
       "      <td>-46.546323</td>\n",
       "    </tr>\n",
       "    <tr>\n",
       "      <th>4</th>\n",
       "      <td>Butantã</td>\n",
       "      <td>Butantã</td>\n",
       "      <td>-23.569056</td>\n",
       "      <td>-46.721883</td>\n",
       "    </tr>\n",
       "    <tr>\n",
       "      <th>5</th>\n",
       "      <td>Butantã</td>\n",
       "      <td>Morumbi</td>\n",
       "      <td>-23.596499</td>\n",
       "      <td>-46.717845</td>\n",
       "    </tr>\n",
       "  </tbody>\n",
       "</table>\n",
       "</div>"
      ],
      "text/plain": [
       "      Borough  Neighborhood   Latitude  Longitude\n",
       "0  Aricanduva    Aricanduva -23.578024 -46.511454\n",
       "1  Aricanduva        Carrão -23.551530 -46.537791\n",
       "2  Aricanduva  Vila Formosa -23.566876 -46.546323\n",
       "4     Butantã       Butantã -23.569056 -46.721883\n",
       "5     Butantã       Morumbi -23.596499 -46.717845"
      ]
     },
     "execution_count": 178,
     "metadata": {},
     "output_type": "execute_result"
    }
   ],
   "source": [
    "page_sp = requests.get('https://www.prefeitura.sp.gov.br/cidade/secretarias/subprefeituras/subprefeituras/dados_demograficos/index.php')\n",
    "soup_sp = BeautifulSoup(page_sp.text, 'html.parser')\n",
    "    \n",
    "df_sp = pd.read_html(str(soup_sp.find('table')))[0]\n",
    "df_sp = df_sp[(df_sp['Distritos'] != 'TOTAL') & (df_sp['Distritos'].isnull() == False)]\n",
    "df_sp.drop(columns=df_sp.columns[[2,3,4]],inplace=True)\n",
    "df_sp.columns = ['Borough','Neighborhood']\n",
    "\n",
    "\n",
    "for index, row in df_sp.iterrows():\n",
    "    print('.',end='')\n",
    "    try:\n",
    "      location = geolocator.geocode('{}, Sao Paulo, Brazil'.format(row['Neighborhood']))\n",
    "      df_sp.at[index,'Latitude'] = location.latitude\n",
    "      df_sp.at[index,'Longitude'] = location.longitude\n",
    "    except Exception as e:\n",
    "      print('***',e)\n",
    "        \n",
    "df_sp.head()"
   ]
  },
  {
   "cell_type": "code",
   "execution_count": 179,
   "id": "585ddb28",
   "metadata": {},
   "outputs": [
    {
     "name": "stdout",
     "output_type": "stream",
     "text": [
      "Checking NA values:\n",
      "Borough         0\n",
      "Neighborhood    0\n",
      "Latitude        0\n",
      "Longitude       0\n",
      "dtype: int64\n"
     ]
    }
   ],
   "source": [
    "print(\"Checking NA values:\")\n",
    "print(df_sp.isna().sum())"
   ]
  },
  {
   "cell_type": "code",
   "execution_count": 180,
   "id": "2d901fbf",
   "metadata": {},
   "outputs": [
    {
     "name": "stdout",
     "output_type": "stream",
     "text": [
      "..............................................................................................................................................."
     ]
    },
    {
     "data": {
      "text/html": [
       "<div>\n",
       "<style scoped>\n",
       "    .dataframe tbody tr th:only-of-type {\n",
       "        vertical-align: middle;\n",
       "    }\n",
       "\n",
       "    .dataframe tbody tr th {\n",
       "        vertical-align: top;\n",
       "    }\n",
       "\n",
       "    .dataframe thead th {\n",
       "        text-align: right;\n",
       "    }\n",
       "</style>\n",
       "<table border=\"1\" class=\"dataframe\">\n",
       "  <thead>\n",
       "    <tr style=\"text-align: right;\">\n",
       "      <th></th>\n",
       "      <th>Borough</th>\n",
       "      <th>Neighborhood</th>\n",
       "      <th>Latitude</th>\n",
       "      <th>Longitude</th>\n",
       "    </tr>\n",
       "  </thead>\n",
       "  <tbody>\n",
       "    <tr>\n",
       "      <th>0</th>\n",
       "      <td>Belconnen</td>\n",
       "      <td>Aranda</td>\n",
       "      <td>-35.258055</td>\n",
       "      <td>149.080426</td>\n",
       "    </tr>\n",
       "    <tr>\n",
       "      <th>1</th>\n",
       "      <td>Belconnen</td>\n",
       "      <td>Belconnen</td>\n",
       "      <td>-35.227434</td>\n",
       "      <td>149.043145</td>\n",
       "    </tr>\n",
       "    <tr>\n",
       "      <th>2</th>\n",
       "      <td>Belconnen</td>\n",
       "      <td>Belconnen Town Centre</td>\n",
       "      <td>-35.227434</td>\n",
       "      <td>149.043145</td>\n",
       "    </tr>\n",
       "    <tr>\n",
       "      <th>3</th>\n",
       "      <td>Belconnen</td>\n",
       "      <td>Emu Ridge</td>\n",
       "      <td>-35.235379</td>\n",
       "      <td>149.066002</td>\n",
       "    </tr>\n",
       "    <tr>\n",
       "      <th>4</th>\n",
       "      <td>Belconnen</td>\n",
       "      <td>Bruce</td>\n",
       "      <td>-35.245352</td>\n",
       "      <td>149.091633</td>\n",
       "    </tr>\n",
       "  </tbody>\n",
       "</table>\n",
       "</div>"
      ],
      "text/plain": [
       "     Borough           Neighborhood   Latitude   Longitude\n",
       "0  Belconnen                 Aranda -35.258055  149.080426\n",
       "1  Belconnen              Belconnen -35.227434  149.043145\n",
       "2  Belconnen  Belconnen Town Centre -35.227434  149.043145\n",
       "3  Belconnen              Emu Ridge -35.235379  149.066002\n",
       "4  Belconnen                  Bruce -35.245352  149.091633"
      ]
     },
     "execution_count": 180,
     "metadata": {},
     "output_type": "execute_result"
    }
   ],
   "source": [
    "page_cb = requests.get('https://en.wikipedia.org/wiki/List_of_Canberra_suburbs')\n",
    "soup_cb = BeautifulSoup(page_cb.text, 'html.parser')\n",
    "\n",
    "district = soup_cb.find('h2').find_next('h2')\n",
    "\n",
    "extracted_data=[]\n",
    "\n",
    "while district != None:\n",
    "    district = district.find('span')     \n",
    "    \n",
    "    if district != None:\n",
    "        suburbs = district.find_next('ul')\n",
    "    \n",
    "        if suburbs != None:\n",
    "          suburbs = suburbs.find_all('a')\n",
    "    \n",
    "          if suburbs != None:  \n",
    "            if district.find('a'):\n",
    "              district_name = district.a.string\n",
    "            else:\n",
    "              district_name = district.string\n",
    "            \n",
    "            if district_name != 'References' and district_name != 'External links':\n",
    "                for row in suburbs:\n",
    "                  row_data = {}\n",
    "                  row_data['Borough'] = district_name\n",
    "                  row_data['Neighborhood'] = row.string\n",
    "                  extracted_data.append(row_data)\n",
    "                  \n",
    "        district = district.find_next('h2')\n",
    "        \n",
    "        \n",
    "df_cb = pd.DataFrame(extracted_data)\n",
    "\n",
    "for index, row in df_cb.iterrows():\n",
    "    print('.',end='')    \n",
    "    try:\n",
    "      # if row['Borough'] == 'Other':\n",
    "      #   s = '{}, Australia'.format(row['Neighborhood'])    \n",
    "      # else:\n",
    "      #   s = '{}, {}, Australia'.format(row['Neighborhood'],row['Borough']) \n",
    "        \n",
    "      s = '{}, Território da Capital Australiana, Australia'.format(row['Neighborhood'])      \n",
    "        \n",
    "      location = geolocator.geocode(s)\n",
    "    \n",
    "      df_cb.at[index,'Latitude'] = location.latitude\n",
    "      df_cb.at[index,'Longitude'] = location.longitude\n",
    "    except Exception as e:\n",
    "      print('***',row['Neighborhood'],row['Borough'],e)\n",
    "\n",
    "df_cb.head()"
   ]
  },
  {
   "cell_type": "code",
   "execution_count": 177,
   "id": "70ecead9",
   "metadata": {},
   "outputs": [
    {
     "name": "stdout",
     "output_type": "stream",
     "text": [
      "Checking NA values:\n"
     ]
    },
    {
     "data": {
      "text/plain": [
       "Borough         0\n",
       "Neighborhood    0\n",
       "Latitude        0\n",
       "Longitude       0\n",
       "dtype: int64"
      ]
     },
     "execution_count": 177,
     "metadata": {},
     "output_type": "execute_result"
    }
   ],
   "source": [
    "print(\"Checking NA values:\")\n",
    "df_cb.isna().sum()"
   ]
  },
  {
   "cell_type": "code",
   "execution_count": null,
   "id": "1a956370",
   "metadata": {},
   "outputs": [],
   "source": []
  }
 ],
 "metadata": {
  "kernelspec": {
   "display_name": "Python 3",
   "language": "python",
   "name": "python3"
  },
  "language_info": {
   "codemirror_mode": {
    "name": "ipython",
    "version": 3
   },
   "file_extension": ".py",
   "mimetype": "text/x-python",
   "name": "python",
   "nbconvert_exporter": "python",
   "pygments_lexer": "ipython3",
   "version": "3.8.8"
  }
 },
 "nbformat": 4,
 "nbformat_minor": 5
}
